{
 "cells": [
  {
   "cell_type": "code",
   "execution_count": 1,
   "id": "cfd24f7b-b0f7-4785-b7fd-8993cc86f60d",
   "metadata": {
    "tags": []
   },
   "outputs": [
    {
     "name": "stdout",
     "output_type": "stream",
     "text": [
      "WARNING:tensorflow:From c:\\users\\tatya\\appdata\\local\\programs\\python\\python39\\lib\\site-packages\\keras\\src\\losses.py:2976: The name tf.losses.sparse_softmax_cross_entropy is deprecated. Please use tf.compat.v1.losses.sparse_softmax_cross_entropy instead.\n",
      "\n"
     ]
    }
   ],
   "source": [
    "import numpy as np\n",
    "import tensorflow as tf\n",
    "from tensorflow import keras\n",
    "from keras.datasets import mnist\n",
    "from keras.applications import VGG16\n",
    "from tensorflow.keras.utils import to_categorical\n",
    "from keras import layers\n",
    "from tensorflow.keras.models import Model"
   ]
  },
  {
   "cell_type": "code",
   "execution_count": 15,
   "id": "c6b431dd-e4d2-44e0-8d82-7a7a7442546a",
   "metadata": {
    "tags": []
   },
   "outputs": [
    {
     "name": "stdout",
     "output_type": "stream",
     "text": [
      "Epoch 1/15\n",
      "WARNING:tensorflow:From c:\\users\\tatya\\appdata\\local\\programs\\python\\python39\\lib\\site-packages\\keras\\src\\utils\\tf_utils.py:492: The name tf.ragged.RaggedTensorValue is deprecated. Please use tf.compat.v1.ragged.RaggedTensorValue instead.\n",
      "\n",
      "WARNING:tensorflow:From c:\\users\\tatya\\appdata\\local\\programs\\python\\python39\\lib\\site-packages\\keras\\src\\engine\\base_layer_utils.py:384: The name tf.executing_eagerly_outside_functions is deprecated. Please use tf.compat.v1.executing_eagerly_outside_functions instead.\n",
      "\n",
      "240/240 [==============================] - 1013s 4s/step - loss: 1.3952 - accuracy: 0.4666 - val_loss: 0.3696 - val_accuracy: 0.8963\n",
      "Epoch 2/15\n",
      "240/240 [==============================] - 992s 4s/step - loss: 0.2096 - accuracy: 0.9448 - val_loss: 0.1028 - val_accuracy: 0.9743\n",
      "Epoch 3/15\n",
      "240/240 [==============================] - 1017s 4s/step - loss: 0.0837 - accuracy: 0.9789 - val_loss: 0.0829 - val_accuracy: 0.9760\n",
      "Epoch 4/15\n",
      "240/240 [==============================] - 955s 4s/step - loss: 0.0487 - accuracy: 0.9875 - val_loss: 0.0581 - val_accuracy: 0.9822\n",
      "Epoch 5/15\n",
      "240/240 [==============================] - 945s 4s/step - loss: 0.0445 - accuracy: 0.9889 - val_loss: 0.0541 - val_accuracy: 0.9899\n",
      "Epoch 6/15\n",
      "240/240 [==============================] - 939s 4s/step - loss: 0.0365 - accuracy: 0.9908 - val_loss: 0.0575 - val_accuracy: 0.9877\n",
      "Epoch 7/15\n",
      "240/240 [==============================] - 945s 4s/step - loss: 0.0485 - accuracy: 0.9884 - val_loss: 0.0489 - val_accuracy: 0.9890\n",
      "Epoch 8/15\n",
      "240/240 [==============================] - 927s 4s/step - loss: 0.0334 - accuracy: 0.9925 - val_loss: 0.0465 - val_accuracy: 0.9912\n",
      "Epoch 9/15\n",
      "240/240 [==============================] - 943s 4s/step - loss: 0.0254 - accuracy: 0.9938 - val_loss: 0.0339 - val_accuracy: 0.9926\n",
      "Epoch 10/15\n",
      "240/240 [==============================] - 1115s 5s/step - loss: 0.0621 - accuracy: 0.9860 - val_loss: 0.3992 - val_accuracy: 0.8458\n",
      "Epoch 11/15\n",
      "240/240 [==============================] - 1123s 5s/step - loss: 0.0578 - accuracy: 0.9862 - val_loss: 0.0429 - val_accuracy: 0.9908\n",
      "Epoch 12/15\n",
      "240/240 [==============================] - 1453s 6s/step - loss: 0.0242 - accuracy: 0.9949 - val_loss: 0.0417 - val_accuracy: 0.9918\n",
      "Epoch 13/15\n",
      "240/240 [==============================] - 1052s 4s/step - loss: 0.0206 - accuracy: 0.9955 - val_loss: 0.0487 - val_accuracy: 0.9918\n",
      "Epoch 14/15\n",
      "240/240 [==============================] - 1107s 5s/step - loss: 0.0158 - accuracy: 0.9966 - val_loss: 0.0403 - val_accuracy: 0.9935\n",
      "Epoch 15/15\n",
      "240/240 [==============================] - 1159s 5s/step - loss: 0.0134 - accuracy: 0.9968 - val_loss: 0.0391 - val_accuracy: 0.9919\n",
      "313/313 [==============================] - 60s 187ms/step - loss: 0.0302 - accuracy: 0.9934\n",
      "Test Accuracy: 99.34%\n"
     ]
    }
   ],
   "source": [
    "import numpy as np\n",
    "from keras.utils import to_categorical\n",
    "from keras.applications import VGG16\n",
    "from keras import layers\n",
    "from keras.models import Model\n",
    "from keras.datasets import mnist\n",
    "from cv2 import resize\n",
    "\n",
    "# Завантаження набору даних MNIST\n",
    "(x_train, y_train), (x_test, y_test) = mnist.load_data()\n",
    "\n",
    "# Нормалізація значень пікселів до діапазону [0, 1]\n",
    "x_train = x_train.astype('float32') / 255.0\n",
    "x_test = x_test.astype('float32') / 255.0\n",
    "\n",
    "# Збільшення розмірів зображень та додавання третього каналу\n",
    "x_train_resized = np.array([resize(image, (32, 32)) for image in x_train])\n",
    "x_train_resized = np.expand_dims(x_train_resized, axis=-1)  # Додати третій канал\n",
    "x_train_resized = np.repeat(x_train_resized, 3, axis=-1)  # Повторити канал тричі\n",
    "x_test_resized = np.array([resize(image, (32, 32)) for image in x_test])\n",
    "x_test_resized = np.expand_dims(x_test_resized, axis=-1)\n",
    "x_test_resized = np.repeat(x_test_resized, 3, axis=-1)\n",
    "\n",
    "# Конвертація міток в формат one-hot encoded\n",
    "y_train = to_categorical(y_train, 10)\n",
    "y_test = to_categorical(y_test, 10)\n",
    "\n",
    "# Побудова моделі VGG16\n",
    "def model_VGG16(learning_rate, epochs, batch_size):\n",
    "    base_model = VGG16(\n",
    "        include_top=False,\n",
    "        weights='imagenet',\n",
    "        pooling='avg',\n",
    "        input_shape=(32, 32, 3)  # Вказуємо очікуваний розмір вхідних даних\n",
    "    )\n",
    "\n",
    "    # Додавання власних шарів\n",
    "    x = base_model.output\n",
    "    x = layers.Flatten()(x)\n",
    "    x = layers.Dense(256, activation='relu')(x)\n",
    "    x = layers.Dropout(0.25)(x)\n",
    "    predictions = layers.Dense(10, activation='softmax')(x)\n",
    "\n",
    "    # Створення фінальної моделі\n",
    "    model = Model(inputs=base_model.input, outputs=predictions)\n",
    "\n",
    "    # Компіляція\n",
    "    model.compile(optimizer='adam',\n",
    "                  loss='categorical_crossentropy',\n",
    "                  metrics=['accuracy'])\n",
    "\n",
    "    # Тренування моделі\n",
    "    history = model.fit(\n",
    "        x_train_resized, y_train,\n",
    "        epochs=epochs,\n",
    "        batch_size=batch_size,\n",
    "        validation_split=0.2\n",
    "    )\n",
    "\n",
    "    # Оцінка моделі\n",
    "    test_loss, test_accuracy = model.evaluate(x_test_resized, y_test)\n",
    "    print(f'Test Accuracy: {test_accuracy * 100:.2f}%')\n",
    "\n",
    "    return model, history\n",
    "\n",
    "# Гіперпараметри\n",
    "learning_rate = 0.001\n",
    "epochs = 15\n",
    "batch_size = 200\n",
    "\n",
    "# Тренування та оцінка моделі\n",
    "model, history = model_VGG16(learning_rate, epochs, batch_size)\n"
   ]
  },
  {
   "cell_type": "code",
   "execution_count": 16,
   "id": "5a7105e0-df3c-40ec-bc9e-54d23e4aa0ca",
   "metadata": {
    "tags": []
   },
   "outputs": [
    {
     "name": "stderr",
     "output_type": "stream",
     "text": [
      "c:\\users\\tatya\\appdata\\local\\programs\\python\\python39\\lib\\site-packages\\keras\\src\\engine\\training.py:3103: UserWarning: You are saving your model as an HDF5 file via `model.save()`. This file format is considered legacy. We recommend using instead the native Keras format, e.g. `model.save('my_model.keras')`.\n",
      "  saving_api.save_model(\n"
     ]
    }
   ],
   "source": [
    "# Збереження моделі до файлу\n",
    "model.save('model_VGG16_super.h5')"
   ]
  },
  {
   "cell_type": "code",
   "execution_count": 17,
   "id": "823e3020-adb3-471a-aebf-7036270b610f",
   "metadata": {
    "tags": []
   },
   "outputs": [
    {
     "data": {
      "image/png": "[encoded data removed]",
      "text/plain": [
       "<Figure size 864x432 with 2 Axes>"
      ]
     },
     "metadata": {
      "needs_background": "light"
     },
     "output_type": "display_data"
    }
   ],
   "source": [
    "import matplotlib.pyplot as plt\n",
    "\n",
    "# Функція для побудови графіків\n",
    "def plot_history(history):\n",
    "    # Графік функції втрат\n",
    "    plt.figure(figsize=(12, 6))\n",
    "    plt.subplot(1, 2, 1)\n",
    "    plt.plot(history.history['loss'], label='Training Loss')\n",
    "    plt.plot(history.history['val_loss'], label='Validation Loss')\n",
    "    plt.title('Training and Validation Loss')\n",
    "    plt.xlabel('Epoch')\n",
    "    plt.ylabel('Loss')\n",
    "    plt.legend()\n",
    "\n",
    "    # Графік точності\n",
    "    plt.subplot(1, 2, 2)\n",
    "    plt.plot(history.history['accuracy'], label='Training Accuracy')\n",
    "    plt.plot(history.history['val_accuracy'], label='Validation Accuracy')\n",
    "    plt.title('Training and Validation Accuracy')\n",
    "    plt.xlabel('Epoch')\n",
    "    plt.ylabel('Accuracy')\n",
    "    plt.legend()\n",
    "\n",
    "    plt.show()\n",
    "\n",
    "# Побудова графіків\n",
    "plot_history(history)"
   ]
  },
  {
   "cell_type": "code",
   "execution_count": 20,
   "id": "207bb2b9-765a-49e8-8d1c-7ad359a65d6e",
   "metadata": {
    "tags": []
   },
   "outputs": [
    {
     "name": "stdout",
     "output_type": "stream",
     "text": [
      "1/1 [==============================] - 0s 471ms/step\n",
      "1/1 [==============================] - 0s 105ms/step\n",
      "1/1 [==============================] - 0s 106ms/step\n",
      "1/1 [==============================] - 0s 104ms/step\n",
      "1/1 [==============================] - 0s 81ms/step\n"
     ]
    },
    {
     "data": {
      "image/png": "[encoded data removed]",
      "text/plain": [
       "<Figure size 1080x720 with 5 Axes>"
      ]
     },
     "metadata": {
      "needs_background": "light"
     },
     "output_type": "display_data"
    }
   ],
   "source": [
    "# Візуалізація результатів розпізнавання\n",
    "visualize_predictions(model, x_test_resized, y_test)"
   ]
  },
  {
   "cell_type": "code",
   "execution_count": 21,
   "id": "2153e6ea-965b-436f-93bc-346b2710faf9",
   "metadata": {
    "tags": []
   },
   "outputs": [
    {
     "name": "stdout",
     "output_type": "stream",
     "text": [
      "313/313 [==============================] - 52s 165ms/step\n",
      "              precision    recall  f1-score   support\n",
      "\n",
      "           0       1.00      0.99      1.00       980\n",
      "           1       0.99      1.00      1.00      1135\n",
      "           2       0.99      1.00      0.99      1032\n",
      "           3       0.99      0.99      0.99      1010\n",
      "           4       0.99      1.00      0.99       982\n",
      "           5       0.99      0.99      0.99       892\n",
      "           6       1.00      0.99      0.99       958\n",
      "           7       0.99      0.99      0.99      1028\n",
      "           8       0.99      1.00      1.00       974\n",
      "           9       1.00      0.99      0.99      1009\n",
      "\n",
      "    accuracy                           0.99     10000\n",
      "   macro avg       0.99      0.99      0.99     10000\n",
      "weighted avg       0.99      0.99      0.99     10000\n",
      "\n"
     ]
    }
   ],
   "source": [
    "from sklearn.metrics import classification_report\n",
    "\n",
    "# Отримання передбачень моделі для тестових даних\n",
    "predictions = model.predict(x_test_resized)\n",
    "\n",
    "# Перетворення передбачень у масив індексів класів\n",
    "predicted_classes = np.argmax(predictions, axis=1)\n",
    "\n",
    "# Перетворення one-hot закодованих міток у масив індексів класів\n",
    "true_classes = np.argmax(y_test, axis=1)\n",
    "\n",
    "# Виведення класифікаційного звіту\n",
    "print(classification_report(true_classes, predicted_classes))"
   ]
  },
  {
   "cell_type": "code",
   "execution_count": 23,
   "id": "6f1764a2-f514-46b4-93b2-1e68a1b1e369",
   "metadata": {
    "tags": []
   },
   "outputs": [
    {
     "name": "stdout",
     "output_type": "stream",
     "text": [
      "Model: \"model_7\"\n",
      "_________________________________________________________________\n",
      " Layer (type)                Output Shape              Param #   \n",
      "=================================================================\n",
      " input_8 (InputLayer)        [(None, 32, 32, 3)]       0         \n",
      "                                                                 \n",
      " block1_conv1 (Conv2D)       (None, 32, 32, 64)        1792      \n",
      "                                                                 \n",
      " block1_conv2 (Conv2D)       (None, 32, 32, 64)        36928     \n",
      "                                                                 \n",
      " block1_pool (MaxPooling2D)  (None, 16, 16, 64)        0         \n",
      "                                                                 \n",
      " block2_conv1 (Conv2D)       (None, 16, 16, 128)       73856     \n",
      "                                                                 \n",
      " block2_conv2 (Conv2D)       (None, 16, 16, 128)       147584    \n",
      "                                                                 \n",
      " block2_pool (MaxPooling2D)  (None, 8, 8, 128)         0         \n",
      "                                                                 \n",
      " block3_conv1 (Conv2D)       (None, 8, 8, 256)         295168    \n",
      "                                                                 \n",
      " block3_conv2 (Conv2D)       (None, 8, 8, 256)         590080    \n",
      "                                                                 \n",
      " block3_conv3 (Conv2D)       (None, 8, 8, 256)         590080    \n",
      "                                                                 \n",
      " block3_pool (MaxPooling2D)  (None, 4, 4, 256)         0         \n",
      "                                                                 \n",
      " block4_conv1 (Conv2D)       (None, 4, 4, 512)         1180160   \n",
      "                                                                 \n",
      " block4_conv2 (Conv2D)       (None, 4, 4, 512)         2359808   \n",
      "                                                                 \n",
      " block4_conv3 (Conv2D)       (None, 4, 4, 512)         2359808   \n",
      "                                                                 \n",
      " block4_pool (MaxPooling2D)  (None, 2, 2, 512)         0         \n",
      "                                                                 \n",
      " block5_conv1 (Conv2D)       (None, 2, 2, 512)         2359808   \n",
      "                                                                 \n",
      " block5_conv2 (Conv2D)       (None, 2, 2, 512)         2359808   \n",
      "                                                                 \n",
      " block5_conv3 (Conv2D)       (None, 2, 2, 512)         2359808   \n",
      "                                                                 \n",
      " block5_pool (MaxPooling2D)  (None, 1, 1, 512)         0         \n",
      "                                                                 \n",
      " global_average_pooling2d_7  (None, 512)               0         \n",
      "  (GlobalAveragePooling2D)                                       \n",
      "                                                                 \n",
      " flatten_7 (Flatten)         (None, 512)               0         \n",
      "                                                                 \n",
      " dense_14 (Dense)            (None, 256)               131328    \n",
      "                                                                 \n",
      " dropout_7 (Dropout)         (None, 256)               0         \n",
      "                                                                 \n",
      " dense_15 (Dense)            (None, 10)                2570      \n",
      "                                                                 \n",
      "=================================================================\n",
      "Total params: 14848586 (56.64 MB)\n",
      "Trainable params: 14848586 (56.64 MB)\n",
      "Non-trainable params: 0 (0.00 Byte)\n",
      "_________________________________________________________________\n"
     ]
    }
   ],
   "source": [
    "model.summary()"
   ]
  },
  {
   "cell_type": "code",
   "execution_count": null,
   "id": "ddc2dfa7-f732-471e-b344-a21fa581d05f",
   "metadata": {},
   "outputs": [],
   "source": []
  }
 ],
 "metadata": {
  "kernelspec": {
   "display_name": "Python 3 (ipykernel)",
   "language": "python",
   "name": "python3"
  },
  "language_info": {
   "codemirror_mode": {
    "name": "ipython",
    "version": 3
   },
   "file_extension": ".py",
   "mimetype": "text/x-python",
   "name": "python",
   "nbconvert_exporter": "python",
   "pygments_lexer": "ipython3",
   "version": "3.9.2"
  }
 },
 "nbformat": 4,
 "nbformat_minor": 5
}
